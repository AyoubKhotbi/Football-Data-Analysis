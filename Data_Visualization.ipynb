{
  "nbformat": 4,
  "nbformat_minor": 0,
  "metadata": {
    "colab": {
      "provenance": []
    },
    "kernelspec": {
      "name": "python3",
      "display_name": "Python 3"
    },
    "language_info": {
      "name": "python"
    }
  },
  "cells": [
    {
      "cell_type": "markdown",
      "source": [
        "## In this notebook there is an example of how to graph the results we obtained from our analysis.\n",
        "\n",
        "This code uses a png of a soccer field to graph the position of the player in that event.\n",
        "This is really helpful when we wanto to understand which part of the field players kick more often, in particular with freekicks.\n"
      ],
      "metadata": {
        "id": "shHlA0f784Wy"
      }
    },
    {
      "cell_type": "code",
      "execution_count": null,
      "metadata": {
        "id": "Us9nvei_ysMQ"
      },
      "outputs": [],
      "source": [
        "img = Image.open('path of the image of the pitch')\n",
        "# Define the measure of the pitch\n",
        "pitch = {'x' : 110,\n",
        "         'y' : 70}\n",
        "# Pitch image as backgound\n",
        "background_image = dict(\n",
        "            source=img,\n",
        "            xref=\"x\",\n",
        "            yref=\"y\",\n",
        "            x=0,\n",
        "            y=0,\n",
        "            sizex=pitch['x'],\n",
        "            sizey=pitch['y'],\n",
        "            sizing=\"stretch\",\n",
        "            opacity=0.5,\n",
        "            layer=\"below\")\n",
        "\n",
        "rangex=[0,pitch['x']]\n",
        "rangey=[pitch['y'],0]\n",
        "ww=900 #image width\n",
        "hh=596 # image height\n",
        "\n",
        "#converting coordinates for plotting\n",
        "\n",
        "YOUR_DF['new_x'] = YOUR_DF['x'].apply(lambda x : x * pitch['x']/100)\n",
        "YOUR_DF['new_y'] = YOUR_DF['y'].apply(lambda x : x * pitch['y']/100)\n",
        "\n",
        "fig = px.scatter(YOUR_DF, x='new_x',y='new_y', range_x=rangex, range_y=rangey, width=ww/1.5, height=hh/1.5,\n",
        "                color = 'isGoal', hover_data=['name'])\n",
        "fig.add_layout_image(background_image)\n",
        "fig.show()\n",
        "\n",
        "Other type of graphes\n",
        "If you want to use another type of graph there isn't a right answer, but if I have to advice, surely cake graph is not the best for the data visualization and up to now plotly is the best library since you can move on the graph and even download it and for soccer data this is the perfect situation\n",
        "\n",
        "SoccerAction package has his own graphes, which are pretty difficult to read but they show where each player during the action was and what kind of action he did. I put an example of the graph.\n",
        "download.png"
      ]
    },
    {
      "cell_type": "code",
      "source": [],
      "metadata": {
        "id": "1rq-y9MU0Mn9"
      },
      "execution_count": null,
      "outputs": []
    }
  ]
}